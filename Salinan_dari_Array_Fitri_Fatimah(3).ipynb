{
  "nbformat": 4,
  "nbformat_minor": 0,
  "metadata": {
    "colab": {
      "provenance": [],
      "include_colab_link": true
    },
    "kernelspec": {
      "name": "python3",
      "display_name": "Python 3"
    },
    "language_info": {
      "name": "python"
    }
  },
  "cells": [
    {
      "cell_type": "markdown",
      "metadata": {
        "id": "view-in-github",
        "colab_type": "text"
      },
      "source": [
        "<a href=\"https://colab.research.google.com/github/FitriFatimah6/pemograman-lanjutan-sem3/blob/main/Salinan_dari_Array_Fitri_Fatimah(3).ipynb\" target=\"_parent\"><img src=\"https://colab.research.google.com/assets/colab-badge.svg\" alt=\"Open In Colab\"/></a>"
      ]
    },
    {
      "cell_type": "markdown",
      "source": [
        "#**🖥️👩🏻‍💻PRAKTIKUM PEMROGRAMAN LANJUT🔥**\n",
        "##**Pertemuan (3) ARRAY () - Senin, 28 Oktober 2024**\n",
        "\n",
        "👤 Nama: Fitri Fatimah / NRP: 2C2230004/ Kelas: III/A Sains Data\n",
        "\n",
        "💬Deskripsi Pembahasan Materi Array:\n",
        "\n",
        "1.1.  Definisi Array\n",
        "- Array adalah variabel dengan satu buah nama, tetapi mengandung banyak nilai. Akses nilainilainya dilakukan dengan indeks.\n",
        "\n",
        "1.2. Deklarasi Array\n",
        "- Karena array juga merupakan sebuah variabel, maka array juga memerlukan deklarasi seperti variabel lainnya.\n",
        "\n",
        "1.3. Array dan Variabel\n",
        "- Suatu array dapat kita anggap sebagai variabel, sehingga segala jenis operasi pada variabel juga berlaku pada array.\n",
        "\n",
        "1.4. String\n",
        "- String dapat dianggap sebagai array of character, namun tipe data string memiliki karakteristik yang berbeda dengan array of character yaitu string merupakan tipe data immutable. Artinya, string tidak dapat diubah nilainya setelah dideklarasikan.\n",
        "\n",
        "\n"
      ],
      "metadata": {
        "id": "_bN6_LxQCJZT"
      }
    },
    {
      "cell_type": "markdown",
      "source": [
        "#🤸🏻‍♀️ EKSPLORASI PRIBADI DI KELAS ✨"
      ],
      "metadata": {
        "id": "N0U2Qjks8P9F"
      }
    },
    {
      "cell_type": "code",
      "source": [
        "'''contoh 1:\n",
        "mengembalikan jumlah elemen\n",
        "dalam cars array'''\n",
        "\n",
        "cars =[\"ford\", \"volvo\", \"BMW\"]\n",
        "x = len(cars)\n",
        "print(x)"
      ],
      "metadata": {
        "colab": {
          "base_uri": "https://localhost:8080/"
        },
        "id": "sEQy0wMIU8oS",
        "outputId": "7dbbb168-6942-4cf4-ff42-b5d9fba5863f"
      },
      "execution_count": null,
      "outputs": [
        {
          "output_type": "stream",
          "name": "stdout",
          "text": [
            "3\n"
          ]
        }
      ]
    },
    {
      "cell_type": "code",
      "source": [
        "'''coontoh 1:\n",
        "cetak seriap item dalam carsarray'''\n",
        "\n",
        "cars = [\"ford\", \"volvo\", \"BMW\"]\n",
        "for x in cars:\n",
        "  print(x)"
      ],
      "metadata": {
        "colab": {
          "base_uri": "https://localhost:8080/"
        },
        "id": "YmEaYBoyVnT6",
        "outputId": "e593288d-fb5f-4991-ef1d-5a5a73c5468b"
      },
      "execution_count": null,
      "outputs": [
        {
          "output_type": "stream",
          "name": "stdout",
          "text": [
            "ford\n",
            "volvo\n",
            "BMW\n"
          ]
        }
      ]
    },
    {
      "cell_type": "code",
      "execution_count": null,
      "metadata": {
        "id": "itmMcxv88OIm",
        "colab": {
          "base_uri": "https://localhost:8080/"
        },
        "outputId": "3d5f707b-d53c-407b-fcad-5f5ed4d91df3"
      },
      "outputs": [
        {
          "output_type": "stream",
          "name": "stdout",
          "text": [
            "['toyota', 'volvo', 'BMW']\n"
          ]
        }
      ],
      "source": [
        "'''Contoh 2:\n",
        "ubah nilai item array pertama'''\n",
        "\n",
        "cars=[\"ford\", \"volvo\", \"BMW\"]\n",
        "cars[0]= \"toyota\"\n",
        "print(cars)"
      ]
    },
    {
      "cell_type": "code",
      "source": [
        "'''contoh 2\n",
        "hapus elemen yang memiliki nilai \"volvo\"'''\n",
        "\n",
        "cars = [\"ford\", \"volvo\", \"BMW\"]\n",
        "cars.remove(\"volvo\")\n",
        "print(cars)"
      ],
      "metadata": {
        "colab": {
          "base_uri": "https://localhost:8080/"
        },
        "id": "cNpg3THxWlXi",
        "outputId": "f9c5a01b-0f68-444a-a8f5-32779080bb8e"
      },
      "execution_count": null,
      "outputs": [
        {
          "output_type": "stream",
          "name": "stdout",
          "text": [
            "['ford', 'BMW']\n"
          ]
        }
      ]
    },
    {
      "cell_type": "markdown",
      "source": [
        "- Interpretasi coding:\n",
        "\n",
        "- Interpretasi Hasil:"
      ],
      "metadata": {
        "id": "f1J9LJyv9-YC"
      }
    },
    {
      "cell_type": "markdown",
      "source": [
        "#🧠 LATIHAN SOAL DI KELAS ⏱️"
      ],
      "metadata": {
        "id": "KEGjH0_P9D1-"
      }
    },
    {
      "cell_type": "markdown",
      "source": [
        "Problem (1) Reverse"
      ],
      "metadata": {
        "id": "nt7-fY7s9PgC"
      }
    },
    {
      "cell_type": "code",
      "source": [
        "N = int(input(\"Masukkan N: \"))\n",
        "bilangan = []\n",
        "for i in range(N):\n",
        "  bilangan.append(int(input()))\n",
        "bilangan.reverse()\n",
        "print(\"Hasil dibalik:\", end=\" \")\n",
        "for i in bilangan:\n",
        "  print(i, end=\"\")"
      ],
      "metadata": {
        "id": "h7si6sBj9Mr4",
        "colab": {
          "base_uri": "https://localhost:8080/"
        },
        "outputId": "6ad3e253-dce0-4f40-ba2a-eccb8b82b5dc"
      },
      "execution_count": null,
      "outputs": [
        {
          "output_type": "stream",
          "name": "stdout",
          "text": [
            "Masukkan N: 5\n",
            "5\n",
            "2\n",
            "1\n",
            "6\n",
            "3\n",
            "Hasil dibalik: 36125"
          ]
        }
      ]
    },
    {
      "cell_type": "markdown",
      "source": [
        "- Interpretasi coding:\n",
        "Program ini meminta pengguna memasukkan jumlah angka yang ingin mereka masukkan (disebut dengan N). Setelah itu, program meminta pengguna untuk memasukkan setiap angka satu per satu. Dan setelah semua angka dimasukkan, program akan membalik urutan angka tersebut. Terakhir, program akan mencetak urutan angka yang sudah dibalik.\n",
        "\n",
        "\n",
        "- Interpretasi Hasil:\n",
        "Program ini meminta memasukkan jumlah angka, yang dimana N = 5\n",
        "Kemudian, program ini meminta memasukkan 5 angka satu per satu dengan angka 5, 2, 1, 6, dan 3.\n",
        "Setelah semua angka dimasukkan, program membalik urutan angka-angka tersebut.\n",
        "Hasil akhirnya, program menampilkan angka-angka dalam urutan terbalik:3,6,1,2,5."
      ],
      "metadata": {
        "id": "Wou8YKfJ9lvY"
      }
    },
    {
      "cell_type": "markdown",
      "source": [
        "Problem (2) Anagram"
      ],
      "metadata": {
        "id": "Eucg6DUK9fgA"
      }
    },
    {
      "cell_type": "code",
      "source": [
        "# Input array A\n",
        "n_A = int(input(\"Masukkan banyaknya elemen A: \"))\n",
        "A = []\n",
        "for i in range(n_A):\n",
        "    elem = int(input(f\"Masukkan elemen A ke-{i+1}: \"))\n",
        "    A.append(elem)\n",
        "\n",
        "# Input array B\n",
        "n_B = int(input(\"\\nMasukkan banyaknya elemen B: \"))\n",
        "B = []\n",
        "for i in range(n_B):\n",
        "    elem = int(input(f\"Masukkan elemen B ke-{i+1}: \"))\n",
        "    B.append(elem)\n",
        "\n",
        "# Membuat dan mengisi tabel frekuensi\n",
        "freq_A = [0] * 11  # indeks 0-10\n",
        "freq_B = [0] * 11\n",
        "\n",
        "# Menghitung frekuensi setiap angka di array A\n",
        "for num in A:\n",
        "    freq_A[num] += 1\n",
        "\n",
        "# Menghitung frekuensi setiap angka di array B\n",
        "for num in B:\n",
        "    freq_B[num] += 1\n",
        "\n",
        "# Membandingkan tabel frekuensi\n",
        "if freq_A == freq_B:\n",
        "    print(\"\\nB adalah anagram dari A\")\n",
        "else:\n",
        "    print(\"\\nB bukan anagram dari A\")"
      ],
      "metadata": {
        "id": "9uWMEZpP9hlB",
        "colab": {
          "base_uri": "https://localhost:8080/"
        },
        "outputId": "af7e4af6-441d-4cd7-8320-3e522ec46c03"
      },
      "execution_count": null,
      "outputs": [
        {
          "output_type": "stream",
          "name": "stdout",
          "text": [
            "Masukkan banyaknya elemen A: 3\n",
            "Masukkan elemen A ke-1: 8\n",
            "Masukkan elemen A ke-2: 4\n",
            "Masukkan elemen A ke-3: 3\n",
            "\n",
            "Masukkan banyaknya elemen B: 3\n",
            "Masukkan elemen B ke-1: 4\n",
            "Masukkan elemen B ke-2: 8\n",
            "Masukkan elemen B ke-3: 3\n",
            "\n",
            "B adalah anagram dari A\n"
          ]
        }
      ]
    },
    {
      "cell_type": "markdown",
      "source": [
        "- Interpretasi coding:\n",
        "input array pada elemen A, yang akan disimpan di variabel A\n",
        "input array pada elemen B, yang akan disimpan di variabel B\n",
        "dan program akan mengecek dari dua kondisi.\n",
        "- Interpretasi Hasil:\n",
        "Hal ini karena array B memiliki elemen yang sama dengan frekuensi kemunculan yang sama seperti array A.Jika array B memiliki elemen yang berbeda atau frekuensinya berbeda, output akan menjadi B adalah anagram dari A."
      ],
      "metadata": {
        "id": "fM9Fo97_93Ni"
      }
    },
    {
      "cell_type": "code",
      "source": [
        "# Input panjang string\n",
        "n = int(input(\"Masukkan panjang string: \"))\n",
        "\n",
        "# Input string\n",
        "text = input(\"Masukkan string: \")\n",
        "\n",
        "# Mengecek apakah string adalah palindrom\n",
        "# Membandingkan string asli dengan string yang dibalik\n",
        "if text == text[::-1]:\n",
        "    print(f\"{text} adalah palindrom\")\n",
        "else:\n",
        "    print(f\"{text} bukan palindrom\")"
      ],
      "metadata": {
        "colab": {
          "base_uri": "https://localhost:8080/"
        },
        "id": "50dvOSjRTPuv",
        "outputId": "a8072ec8-27f6-4350-e8fd-0fb8e62b0ce4"
      },
      "execution_count": null,
      "outputs": [
        {
          "output_type": "stream",
          "name": "stdout",
          "text": [
            "Masukkan panjang string: 5\n",
            "Masukkan string: makan\n",
            "makan bukan palindrom\n"
          ]
        }
      ]
    },
    {
      "cell_type": "code",
      "source": [
        "# Input panjang string\n",
        "n = int(input(\"Masukkan panjang string: \"))\n",
        "\n",
        "# Input string\n",
        "text = input(\"Masukkan string: \")\n",
        "\n",
        "# Mengecek apakah string adalah palindrom\n",
        "# Membandingkan string asli dengan string yang dibalik\n",
        "if text == text[::-1]:\n",
        "    print(f\"{text} adalah palindrom\")\n",
        "else:\n",
        "    print(f\"{text} bukan palindrom\")"
      ],
      "metadata": {
        "colab": {
          "base_uri": "https://localhost:8080/"
        },
        "id": "8nQ39bJVace3",
        "outputId": "1cf6c2c4-5663-4508-b366-9f813cfe2ab8"
      },
      "execution_count": null,
      "outputs": [
        {
          "output_type": "stream",
          "name": "stdout",
          "text": [
            "Masukkan panjang string: 10\n",
            "Masukkan string: kasurrusak\n",
            "kasurrusak adalah palindrom\n"
          ]
        }
      ]
    },
    {
      "cell_type": "code",
      "source": [
        "# Input panjang string\n",
        "n = int(input(\"Masukkan panjang string: \"))\n",
        "\n",
        "# Input string\n",
        "text = input(\"Masukkan string: \")\n",
        "\n",
        "# Mengecek apakah string adalah palindrom\n",
        "# Membandingkan string asli dengan string yang dibalik\n",
        "if text == text[::-1]:\n",
        "    print(f\"{text} adalah palindrom\")\n",
        "else:\n",
        "    print(f\"{text} bukan palindrom\")"
      ],
      "metadata": {
        "colab": {
          "base_uri": "https://localhost:8080/"
        },
        "id": "vjcY5LGZakrM",
        "outputId": "7b08fbcc-4c00-43d0-a643-5cb4c6854407"
      },
      "execution_count": null,
      "outputs": [
        {
          "output_type": "stream",
          "name": "stdout",
          "text": [
            "Masukkan panjang string: 3\n",
            "Masukkan string: apa\n",
            "apa adalah palindrom\n"
          ]
        }
      ]
    },
    {
      "cell_type": "markdown",
      "source": [
        "- Interpretasi Codingan:\n",
        "program ini meminta memasukkan sebuah string (teks).\n",
        "Program kemudian memeriksa apakah string tersebut adalah palindrom. Sebuah string disebut palindrom jika teksnya sama saat dibaca dari depan ke belakang dan dari belakang ke depan. Untuk memeriksa apakah string tersebut palindrom, program membandingkan string asli (text) dengan versi terbalik dari string tersebut (text[::-1]).\n",
        "Jika text sama dengan text[::-1], program menampilkan pesan bahwa string tersebut adalah palindrom.Jika text tidak sama dengan text[::-1], program menampilkan pesan bahwa string tersebut bukan palindrom.\n",
        "\n",
        "- Interpretasi Hasil:\n",
        "String “makan” dibaca dari depan ke belakang berbeda dengan dibaca dari belakang ke depan. Oleh karena itu, “makan” bukan palindrom.\n",
        "String “kasurrusak” dibaca dari depan ke belakang sama dengan dibaca dari belakang ke depan. Oleh karena itu, “kasurrusak” adalah palindrom.\n",
        "String “apa” dibaca dari depan ke belakang sama dengan dibaca dari belakang ke depan. Oleh karena itu, “apa” adalah palindrom.\n"
      ],
      "metadata": {
        "id": "b5Mzro8cbe2O"
      }
    },
    {
      "cell_type": "markdown",
      "source": [
        "#🏆 POST TEST 🎯"
      ],
      "metadata": {
        "id": "J_75vTSXKFGE"
      }
    },
    {
      "cell_type": "markdown",
      "source": [
        "Problem (1)"
      ],
      "metadata": {
        "id": "twhHfrqiKSfV"
      }
    },
    {
      "cell_type": "code",
      "source": [],
      "metadata": {
        "id": "hOI8Gls9KV05"
      },
      "execution_count": null,
      "outputs": []
    },
    {
      "cell_type": "markdown",
      "source": [
        "- Interpretasi coding:\n",
        "- Interpretasi hasil:"
      ],
      "metadata": {
        "id": "t9x---59KWVI"
      }
    },
    {
      "cell_type": "markdown",
      "source": [
        "📌Catatan:\n",
        "  - Notebook python ini dibuat untuk memudahkan temen-temen belajar ngoding dan pengumpulan tugas.\n",
        "  - Silakan download notebook ini lalu upload di Google Collab milik kalian agar format `pertemuan`, `topik pertemuan`,\n",
        "`tanggal`, `deskripsi pembahasan materi`, `baris coding` dan `interpretasi` bisa disesuaikan dengan kebutuhan teman-teman.\n",
        "\n",
        "  - Interpretasi coding dan hasil dimaksudkan agar teman-teman semakin memahami apa yang dipelajari.\n",
        "\n",
        "  - Deskripsi pembahasan materi dimaksudkan agar teman-teman semakin memahami apa fokus yang dipelajari.\n",
        "\n",
        "  - Tulisan di setiap sebelum baris code disebut `markdown`. Ada beberapa jenis simbol yang memudahkan kepenulisan `markdown` kita, yaitu seperti : untuk mengatur ukuran tulisan biasanya tulisan pada header menggunakan ini`#`, `##`, `###`, untuk membuat pointer menggunakan ini `-`, untuk membuat tulisan ter-highlight menggunakan ini *` `* , untuk short-cut membuat tulisan jadi **bold** gunakan ini `** **`, dan untuk *tulisan miring* gunakan ini `* *` .\n",
        "\n",
        "  - Semangat belajar! 🌟✨\n",
        "\n",
        "©️ LABORATORIUM SAINS DATA 2024"
      ],
      "metadata": {
        "id": "D-tRQnbQK69l"
      }
    }
  ]
}