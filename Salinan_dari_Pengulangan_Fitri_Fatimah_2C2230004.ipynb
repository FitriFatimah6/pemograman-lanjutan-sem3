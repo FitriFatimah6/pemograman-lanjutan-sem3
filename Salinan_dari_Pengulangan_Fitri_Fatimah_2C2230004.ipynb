{
  "nbformat": 4,
  "nbformat_minor": 0,
  "metadata": {
    "colab": {
      "provenance": [],
      "include_colab_link": true
    },
    "kernelspec": {
      "name": "python3",
      "display_name": "Python 3"
    },
    "language_info": {
      "name": "python"
    }
  },
  "cells": [
    {
      "cell_type": "markdown",
      "metadata": {
        "id": "view-in-github",
        "colab_type": "text"
      },
      "source": [
        "<a href=\"https://colab.research.google.com/github/FitriFatimah6/pemograman-lanjutan-sem3/blob/main/Salinan_dari_Pengulangan_Fitri_Fatimah_2C2230004.ipynb\" target=\"_parent\"><img src=\"https://colab.research.google.com/assets/colab-badge.svg\" alt=\"Open In Colab\"/></a>"
      ]
    },
    {
      "cell_type": "markdown",
      "source": [
        "#**🖥️👩🏻‍💻PRAKTIKUM PEMROGRAMAN LANJUT🔥**\n",
        "##**Pertemuan (2) PENGULANGAN (LOOP) - Senin, 21 Oktober 2024**\n",
        "\n",
        "👤 Nama: Fitri Fatimah / NRP: 2C2230003 / Kelas: III/A Sains Data\n",
        "\n",
        "💬Deskripsi Pembahasan Materi Pengulangan:\n",
        "\n",
        "1.1.  Pengulangan (LOOP) 🔂\n",
        "- While Loop 🐋\n",
        "Pengulangan while digunakan ketika kita tidak tahu berapa kali kita ingin menjalankan blok kode dan kondisi pengulangan diperiksa sebelum eksekusi blok.\n",
        "- For Loop\n",
        "Struktur ini digunakan bila kita mengetahui secara pasti banyaknya pengulangan yang akan dilakukan. Pernyataan FOR mempunyai 3 parameter yaitu\n",
        "-Nilai awal (initial value)\n",
        "-Test kondisi yang menentukan akhir loop (condition expression)\n",
        "-penentu perubahan nilai (incremental expression)\n",
        "\n",
        "1.2. Pengulangan Bersarang ( NESTED LOOP) 🔂🐦‍\n",
        "struktur perulangan di mana satu loop diletakkan di dalam loop lainnya.engan kata lain, ketika satu iterasi dari loop luar dijalankan, semua iterasi dari loop dalam akan dijalankan sepenuhnya.\n",
        "\n"
      ],
      "metadata": {
        "id": "_bN6_LxQCJZT"
      }
    },
    {
      "cell_type": "markdown",
      "source": [
        "#🤸🏻‍♀️ EKSPLORASI PRIBADI DI KELAS ✨"
      ],
      "metadata": {
        "id": "N0U2Qjks8P9F"
      }
    },
    {
      "cell_type": "code",
      "source": [
        "#list\n",
        "my_list = [1,2,3]\n",
        "my_list[0]=10\n",
        "print(my_list)"
      ],
      "metadata": {
        "colab": {
          "base_uri": "https://localhost:8080/"
        },
        "id": "tV4hnDNNPFGX",
        "outputId": "da82542a-2da9-4e4d-aa1d-a59f1e9c7cf2"
      },
      "execution_count": null,
      "outputs": [
        {
          "output_type": "stream",
          "name": "stdout",
          "text": [
            "[10, 2, 3]\n"
          ]
        }
      ]
    },
    {
      "cell_type": "code",
      "execution_count": null,
      "metadata": {
        "id": "itmMcxv88OIm",
        "colab": {
          "base_uri": "https://localhost:8080/"
        },
        "outputId": "1f117330-049e-4ff4-d467-f7cb6914d6cf"
      },
      "outputs": [
        {
          "output_type": "stream",
          "name": "stdout",
          "text": [
            "1\n",
            "2\n",
            "3\n",
            "4\n",
            "5\n",
            "6\n",
            "7\n",
            "8\n",
            "9\n",
            "10\n"
          ]
        }
      ],
      "source": [
        "var_list =[1,2,3,4,5,6,7,8,9,10]\n",
        "for i in var_list:\n",
        "  print(i)"
      ]
    },
    {
      "cell_type": "code",
      "source": [
        "huruf = \"Sains Data IKOPIN University\"\n",
        "for i in huruf:\n",
        "  print(i)"
      ],
      "metadata": {
        "colab": {
          "base_uri": "https://localhost:8080/"
        },
        "id": "KVYXwnq5OOa_",
        "outputId": "5eaa6a44-96ac-4a8a-c9bf-fbac7a2461c7"
      },
      "execution_count": null,
      "outputs": [
        {
          "output_type": "stream",
          "name": "stdout",
          "text": [
            "S\n",
            "a\n",
            "i\n",
            "n\n",
            "s\n",
            " \n",
            "D\n",
            "a\n",
            "t\n",
            "a\n",
            " \n",
            "I\n",
            "K\n",
            "O\n",
            "P\n",
            "I\n",
            "N\n",
            " \n",
            "U\n",
            "n\n",
            "i\n",
            "v\n",
            "e\n",
            "r\n",
            "s\n",
            "i\n",
            "t\n",
            "y\n"
          ]
        }
      ]
    },
    {
      "cell_type": "code",
      "source": [
        "for i in range(10):\n",
        "  print(i)"
      ],
      "metadata": {
        "colab": {
          "base_uri": "https://localhost:8080/"
        },
        "id": "qaIwQ_SOOtMG",
        "outputId": "d22d62a3-6967-4671-afb4-53bf52dec5a5"
      },
      "execution_count": null,
      "outputs": [
        {
          "output_type": "stream",
          "name": "stdout",
          "text": [
            "0\n",
            "1\n",
            "2\n",
            "3\n",
            "4\n",
            "5\n",
            "6\n",
            "7\n",
            "8\n",
            "9\n"
          ]
        }
      ]
    },
    {
      "cell_type": "code",
      "source": [
        "for i in range (1000)\n",
        "print(\"Hello Word\")"
      ],
      "metadata": {
        "id": "ALyBNrh0QSb2"
      },
      "execution_count": null,
      "outputs": []
    },
    {
      "cell_type": "code",
      "source": [
        "for i in range (2,5,1):\n",
        "  print(i)"
      ],
      "metadata": {
        "colab": {
          "base_uri": "https://localhost:8080/"
        },
        "id": "n0I_Bdd3Ql9b",
        "outputId": "6569559f-558c-4399-83dd-7f4e46e4ccea"
      },
      "execution_count": null,
      "outputs": [
        {
          "output_type": "stream",
          "name": "stdout",
          "text": [
            "2\n",
            "3\n",
            "4\n"
          ]
        }
      ]
    },
    {
      "cell_type": "code",
      "source": [
        "for i in range (7,2,-1):\n",
        "  print(i)"
      ],
      "metadata": {
        "colab": {
          "base_uri": "https://localhost:8080/"
        },
        "id": "JfvgpISwSP0X",
        "outputId": "760a1935-bda8-49a6-e8c2-c48256620553"
      },
      "execution_count": null,
      "outputs": [
        {
          "output_type": "stream",
          "name": "stdout",
          "text": [
            "7\n",
            "6\n",
            "5\n",
            "4\n",
            "3\n"
          ]
        }
      ]
    },
    {
      "cell_type": "code",
      "source": [
        "counter = 1\n",
        "while counter <= 5:\n",
        "  print(counter)\n",
        "  counter +=1"
      ],
      "metadata": {
        "colab": {
          "base_uri": "https://localhost:8080/"
        },
        "id": "JIUFot9WU-KI",
        "outputId": "346ac85e-6c29-4332-fd48-d03a646a912d"
      },
      "execution_count": null,
      "outputs": [
        {
          "output_type": "stream",
          "name": "stdout",
          "text": [
            "1\n",
            "2\n",
            "3\n",
            "4\n",
            "5\n"
          ]
        }
      ]
    },
    {
      "cell_type": "code",
      "source": [
        "#while loop\n",
        "a=int(input())\n",
        "b=int(input())\n",
        "\n",
        "i=a\n",
        "while(i<=b):\n",
        "    print(i)\n",
        "    i+=1"
      ],
      "metadata": {
        "id": "8ldil0T-VnLv"
      },
      "execution_count": null,
      "outputs": []
    },
    {
      "cell_type": "code",
      "source": [
        "n = int(input())\n",
        "\n",
        "for i in range(n):\n",
        "  for j in range(n):\n",
        "    print(\"*\", end=\"\")"
      ],
      "metadata": {
        "id": "r62UXquSWLxW"
      },
      "execution_count": null,
      "outputs": []
    },
    {
      "cell_type": "code",
      "source": [
        "#Input bilangan N\n",
        "N=int(input(\"Masukkan N: \"))\n",
        "\n",
        "#Mencari kelipatan 5 terkecil yang lebih besar dari N\n",
        "i=N+1\n",
        "while i%5 !=0: #selama i belum menjadi kelipatan 5\n",
        "  i+=1 #Tambah 1\n",
        "\n",
        "#Output hasil\n",
        "print(\"output:\",i)"
      ],
      "metadata": {
        "id": "8Qpc4axuZpKn",
        "colab": {
          "base_uri": "https://localhost:8080/"
        },
        "outputId": "3a5ff2df-24d8-4941-f532-ecd4714b2ecc"
      },
      "execution_count": 2,
      "outputs": [
        {
          "output_type": "stream",
          "name": "stdout",
          "text": [
            "Masukkan N: 3\n",
            "output: 5\n"
          ]
        }
      ]
    },
    {
      "cell_type": "code",
      "source": [
        "N = int(input(\"Masukkan bilangan N: \"))  # Menggunakan int() untuk mengonversi input menjadi integer\n",
        "for i in range(N, 0, -1):\n",
        "    for j in range(1, i + 1):\n",
        "        print(j, end=\"\")\n",
        "        print()"
      ],
      "metadata": {
        "id": "c8U--drIa34Q",
        "colab": {
          "base_uri": "https://localhost:8080/"
        },
        "outputId": "abc13450-353e-48f9-c331-a8b306d9a076"
      },
      "execution_count": 4,
      "outputs": [
        {
          "output_type": "stream",
          "name": "stdout",
          "text": [
            "Masukkan bilangan N: 3\n",
            "1\n",
            "2\n",
            "3\n",
            "1\n",
            "2\n",
            "1\n"
          ]
        }
      ]
    },
    {
      "cell_type": "code",
      "source": [
        "N = int(input(\"Masukkan nilai N: \"))  # Mengonversi input menjadi integer\n",
        "\n",
        "# Loop dari 1 hingga N\n",
        "for x in range(1, N + 1):\n",
        "    if x % 2 == 0 and x % 3 == 0:  # Menggunakan '==' untuk perbandingan\n",
        "        print(\"DuaTiga\", end=\" \")\n",
        "    elif x % 2 == 0:  # Menggunakan '==' untuk perbandingan\n",
        "        print(\"Dua\", end=\" \")\n",
        "    elif x % 3 == 0:  # Menggunakan '==' untuk perbandingan\n",
        "        print(\"Tiga\", end=\" \")\n",
        "    else:\n",
        "        print(x, end=\" \")\n",
        "print()"
      ],
      "metadata": {
        "id": "gBVbqDyAbWFt",
        "colab": {
          "base_uri": "https://localhost:8080/"
        },
        "outputId": "00f27ac4-a25a-401e-b7d7-3f24361d0274"
      },
      "execution_count": 5,
      "outputs": [
        {
          "output_type": "stream",
          "name": "stdout",
          "text": [
            "Masukkan nilai N: 6\n",
            "1 Dua Tiga Dua 5 DuaTiga \n"
          ]
        }
      ]
    },
    {
      "cell_type": "markdown",
      "source": [
        "- Interpretasi coding:\n",
        "\n",
        "- Interpretasi Hasil:"
      ],
      "metadata": {
        "id": "f1J9LJyv9-YC"
      }
    },
    {
      "cell_type": "markdown",
      "source": [
        "#🧠 LATIHAN SOAL DI KELAS ⏱️"
      ],
      "metadata": {
        "id": "KEGjH0_P9D1-"
      }
    },
    {
      "cell_type": "markdown",
      "source": [
        "Problem (1) Kalkulator Sederhana"
      ],
      "metadata": {
        "id": "nt7-fY7s9PgC"
      }
    },
    {
      "cell_type": "code",
      "source": [
        "def bilangan_terkecil(N):\n",
        "  while True:\n",
        "    N += 1\n",
        "    if N % 10 == 0:\n",
        "      return N\n",
        "\n",
        "N = int(input(\"Masukan bilangan N: \"))\n",
        "print(\"Bilangan 10 terkecil yang lebih dari N adalah:\", bilangan_terkecil(N))"
      ],
      "metadata": {
        "id": "h7si6sBj9Mr4",
        "colab": {
          "base_uri": "https://localhost:8080/"
        },
        "outputId": "3f7341d7-1dfd-42d4-c64a-cd2a7a269d31"
      },
      "execution_count": 1,
      "outputs": [
        {
          "output_type": "stream",
          "name": "stdout",
          "text": [
            "Masukan bilangan N: 5\n",
            "Bilangan 10 terkecil yang lebih dari N adalah: 10\n"
          ]
        }
      ]
    },
    {
      "cell_type": "markdown",
      "source": [
        "- Interpretasi coding:\n",
        "Fungsi bilangan_terkecil(N) akan menambah   secara bertahap hingga menemukan bilangan yang habis dibagi 10 (kelipatan 10).etelah menemukannya, fungsi mengembalikan bilangan tersebut,Program mencetak hasilnya.\n",
        "- Interpretasi Hasil:\n",
        "program akan menampilkan bilangan kelipatan 10 terkecil yang lebih besar dari nilai  N  yang dimasukkan oleh pengguna."
      ],
      "metadata": {
        "id": "Wou8YKfJ9lvY"
      }
    },
    {
      "cell_type": "markdown",
      "source": [
        "Problem (2) Bilangan Ganjil"
      ],
      "metadata": {
        "id": "Eucg6DUK9fgA"
      }
    },
    {
      "cell_type": "code",
      "source": [
        "n =int(input(\"Masukan N: \"))\n",
        "\n",
        "for i in range(1, n+1):\n",
        "  for j in range(1, i+1):\n",
        "    print(j, end=\"\")\n",
        "  print()"
      ],
      "metadata": {
        "id": "9uWMEZpP9hlB",
        "colab": {
          "base_uri": "https://localhost:8080/"
        },
        "outputId": "7092f3a4-6697-49ab-85f8-0943a530a41e"
      },
      "execution_count": 21,
      "outputs": [
        {
          "output_type": "stream",
          "name": "stdout",
          "text": [
            "Masukan N: 5\n",
            "1\n",
            "12\n",
            "123\n",
            "1234\n",
            "12345\n"
          ]
        }
      ]
    },
    {
      "cell_type": "markdown",
      "source": [
        "- Interpretasi coding:\n",
        "Loop pertama (for i in range(1, n+1)) menentukan jumlah baris dari 1 hingga. Loop kedua (for j in range(1, i+1)) mencetak angka dari 1 hingga nilai pada baris tersebut.Setelah mencetak angka di setiap baris, print() digunakan untuk pindah ke baris berikutnya.\n",
        "- Interpretasi Hasil:\n",
        "Baris pertama mencetak angka 1.\n",
        "Baris kedua mencetak angka 1 2.\n",
        "Baris ketiga mencetak angka 1 2 3.\n",
        "Dan seterusnya, hingga baris ke-N , di mana setiap baris ke-N  mencetak angka dari 1 hingga.\n",
        "hasil output berupa pola angka yang semakin panjang seiring bertambahnya baris, dengan setiap baris menampilkan urutan angka mulai dari 1 hingga nilai baris tersebut."
      ],
      "metadata": {
        "id": "fM9Fo97_93Ni"
      }
    },
    {
      "cell_type": "markdown",
      "source": [
        "#🏆 POST TEST 🎯"
      ],
      "metadata": {
        "id": "J_75vTSXKFGE"
      }
    },
    {
      "cell_type": "markdown",
      "source": [
        "Problem (1)"
      ],
      "metadata": {
        "id": "twhHfrqiKSfV"
      }
    },
    {
      "cell_type": "code",
      "source": [
        "def keluaran(N, A, B, C):\n",
        "  for i in range(1, N + 1):\n",
        "    keluaran = \"\"\n",
        "    if i % A == 0:\n",
        "      keluaran += \"Siap\"\n",
        "    if i % B == 0:\n",
        "      keluaran += \"Bang\"\n",
        "    if i % C == 0:\n",
        "      keluaran += \"Jago\"\n",
        "    if keluaran == \"\":\n",
        "      keluaran = str(i)\n",
        "    print(keluaran, end=\" \")\n",
        "\n",
        "N = int(input(\"Masukkan nilai N: \"))\n",
        "A = int(input(\"Masukkan nilai A: \"))\n",
        "B = int(input(\"Masukkan nilai B: \"))\n",
        "C = int(input(\"Masukkan nilai C: \"))\n",
        "\n",
        "keluaran(N, A, B, C)"
      ],
      "metadata": {
        "id": "hOI8Gls9KV05",
        "colab": {
          "base_uri": "https://localhost:8080/"
        },
        "outputId": "a6402515-1c98-46a4-cfb2-b8d2d83dab80"
      },
      "execution_count": 11,
      "outputs": [
        {
          "output_type": "stream",
          "name": "stdout",
          "text": [
            "Masukkan nilai N: 5\n",
            "Masukkan nilai A: 1\n",
            "Masukkan nilai B: 1\n",
            "Masukkan nilai C: 1\n",
            "SiapBangJago SiapBangJago SiapBangJago SiapBangJago SiapBangJago "
          ]
        }
      ]
    },
    {
      "cell_type": "markdown",
      "source": [
        "- Interpretasi coding:\n",
        "Loop berjalan dari 1 hingga.\n",
        "Untuk setiap:\n",
        "Jika habis dibagi, cetak “Siap”.\n",
        "Jika habis dibagi, cetak “Bang”.\n",
        "Jika habis dibagi, cetak “Jago”.\n",
        "Jika tidak habis dibagi,, atau, cetak angka.\n",
        "Hasilnya ditampilkan dalam satu baris dengan spasi sebagai pemisah.\n",
        "\n",
        "- Interpretasi hasil:\n",
        "Angka 3 habis dibagi, jadi keluar “Siap”.\n",
        "Angka 5 habis dibagi, jadi keluar “Bang”.\n",
        "Angka 7 habis dibagi, jadi keluar “Jago”.\n",
        "Angka 15 habis dibagi dan, jadi keluar“SiapBang”."
      ],
      "metadata": {
        "id": "t9x---59KWVI"
      }
    },
    {
      "cell_type": "markdown",
      "source": [
        "📌Catatan:\n",
        "  - Notebook python ini dibuat untuk memudahkan temen-temen belajar ngoding dan pengumpulan tugas.\n",
        "  - Silakan download notebook ini lalu upload di Google Collab milik kalian agar format `pertemuan`, `topik pertemuan`,\n",
        "`tanggal`, `deskripsi pembahasan materi`, `baris coding` dan `interpretasi` bisa disesuaikan dengan kebutuhan teman-teman.\n",
        "\n",
        "  - Interpretasi coding dan hasil dimaksudkan agar teman-teman semakin memahami apa yang dipelajari.\n",
        "\n",
        "  - Deskripsi pembahasan materi dimaksudkan agar teman-teman semakin memahami apa fokus yang dipelajari.\n",
        "\n",
        "  - Tulisan di setiap sebelum baris code disebut `markdown`. Ada beberapa jenis simbol yang memudahkan kepenulisan `markdown` kita, yaitu seperti : untuk mengatur ukuran tulisan biasanya tulisan pada header menggunakan ini`#`, `##`, `###`, untuk membuat pointer menggunakan ini `-`, untuk membuat tulisan ter-highlight menggunakan ini *` `* , untuk short-cut membuat tulisan jadi **bold** gunakan ini `** **`, dan untuk *tulisan miring* gunakan ini `* *` .\n",
        "\n",
        "  - Semangat belajar! 🌟✨\n",
        "\n",
        "©️ LABORATORIUM SAINS DATA 2024"
      ],
      "metadata": {
        "id": "D-tRQnbQK69l"
      }
    }
  ]
}