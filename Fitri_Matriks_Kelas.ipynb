{
  "nbformat": 4,
  "nbformat_minor": 0,
  "metadata": {
    "colab": {
      "provenance": [],
      "authorship_tag": "ABX9TyNQvKG9LU9+Kn22r6LzHLsq",
      "include_colab_link": true
    },
    "kernelspec": {
      "name": "python3",
      "display_name": "Python 3"
    },
    "language_info": {
      "name": "python"
    }
  },
  "cells": [
    {
      "cell_type": "markdown",
      "metadata": {
        "id": "view-in-github",
        "colab_type": "text"
      },
      "source": [
        "<a href=\"https://colab.research.google.com/github/FitriFatimah6/pemograman-lanjutan-sem3/blob/main/Fitri_Matriks_Kelas.ipynb\" target=\"_parent\"><img src=\"https://colab.research.google.com/assets/colab-badge.svg\" alt=\"Open In Colab\"/></a>"
      ]
    },
    {
      "cell_type": "code",
      "execution_count": 2,
      "metadata": {
        "colab": {
          "base_uri": "https://localhost:8080/"
        },
        "id": "Vjfl4Xkp2g0H",
        "outputId": "6b15fcee-1852-4463-cc67-a3858575a416"
      },
      "outputs": [
        {
          "output_type": "stream",
          "name": "stdout",
          "text": [
            "Matriks M:\n",
            "[6, 11, 40]\n",
            "[8, 12, 67]\n",
            "[20, 18, 90]\n",
            "[45, 15, 17]\n",
            "\n",
            "Matriks Mtranspose:\n",
            "[6, 8, 20, 45]\n",
            "[11, 12, 18, 15]\n",
            "[40, 67, 90, 17]\n"
          ]
        }
      ],
      "source": [
        "M = [[6, 11, 40],\n",
        "     [8, 12, 67],\n",
        "      [20,18,90],\n",
        "     [45,15,17]]\n",
        "\n",
        "Mtranspose = [[M[j][i] for j in range(len(M))] for i in range(len(M[0]))]\n",
        "\n",
        "print(\"Matriks M:\")\n",
        "for row in M:\n",
        "    print(row)\n",
        "\n",
        "print(\"\\nMatriks Mtranspose:\")\n",
        "for row in Mtranspose:\n",
        "    print(row)"
      ]
    }
  ]
}