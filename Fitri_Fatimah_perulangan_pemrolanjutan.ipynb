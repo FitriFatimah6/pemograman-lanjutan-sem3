{
  "nbformat": 4,
  "nbformat_minor": 0,
  "metadata": {
    "colab": {
      "provenance": [],
      "authorship_tag": "ABX9TyORSxyPhatX2naQmtsPjYI0",
      "include_colab_link": true
    },
    "kernelspec": {
      "name": "python3",
      "display_name": "Python 3"
    },
    "language_info": {
      "name": "python"
    }
  },
  "cells": [
    {
      "cell_type": "markdown",
      "metadata": {
        "id": "view-in-github",
        "colab_type": "text"
      },
      "source": [
        "<a href=\"https://colab.research.google.com/github/FitriFatimah6/pemograman-lanjutan-sem3/blob/main/Fitri_Fatimah_perulangan_pemrolanjutan.ipynb\" target=\"_parent\"><img src=\"https://colab.research.google.com/assets/colab-badge.svg\" alt=\"Open In Colab\"/></a>"
      ]
    },
    {
      "cell_type": "markdown",
      "source": [
        "**TUGAS NOMOR 1**\n",
        "\n",
        "![Screenshot (90).png](data:image/png;base64,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)"
      ],
      "metadata": {
        "id": "hNDscMS4pDse"
      }
    },
    {
      "cell_type": "markdown",
      "source": [
        "interpretasi mengapa lebih memakai while dari pada for\n",
        "dalam program tersebut jumlah pengulangan belum di ketahui dari awal dan bergantung pada input pengguna. Dalam kasus program ini, perulangan akan berhenti ketika pengguna memasukan -999, yang dimana bahwa itu menunjukan tanda untuk menghentikan input. Dengan while program ini dapat terus memnta input sampe pengguna memasukan -999. Sedangkan for hanya bisa digunakan ketika jumlah perulangan sudah pasti atau sudah di ketahui sebelumnya."
      ],
      "metadata": {
        "id": "Xy0NN-7bqdMl"
      }
    },
    {
      "cell_type": "markdown",
      "source": [
        "**TUGAS NOMOR 2**"
      ],
      "metadata": {
        "id": "buXYzjROsUkg"
      }
    },
    {
      "cell_type": "code",
      "source": [
        "N = int(input(\"Masukkan nilai N: \"))\n",
        "total = 0\n",
        "kelipatan = []\n",
        "\n",
        "for i in range(1, N + 1):\n",
        "    if i % 5 == 0:\n",
        "        kelipatan.append(i)\n",
        "        total += i\n",
        "print(\"\\nOutput:\", total)\n",
        "\n",
        "# Menampilkan keterangan\n",
        "if total == 0:\n",
        "    print(\"Tidak ada bilangan kelipatan 5 antara 1 s.d.\", N)\n",
        "else:\n",
        "    print(\"Bilangan kelipatan 5 antara 1 s.d.\", N, \"adalah\", end=\" \")\n",
        "    print(*kelipatan, sep=\", \")\n",
        "    print(\"Hasil penjumlahan:\", \" + \".join(map(str, kelipatan)),\"=\",total)"
      ],
      "metadata": {
        "colab": {
          "base_uri": "https://localhost:8080/"
        },
        "id": "NeSv2vUwgVDy",
        "outputId": "970cd323-9b33-460f-bbb9-34021e6f7c72"
      },
      "execution_count": 16,
      "outputs": [
        {
          "output_type": "stream",
          "name": "stdout",
          "text": [
            "Masukkan nilai N: 5\n",
            "\n",
            "Output: 5\n",
            "Bilangan kelipatan 5 antara 1 s.d. 5 adalah 5\n",
            "Hasil penjumlahan: 5 = 5\n"
          ]
        }
      ]
    },
    {
      "cell_type": "code",
      "source": [
        "N = int(input(\"Masukkan nilai N: \"))\n",
        "total = 0\n",
        "kelipatan = []\n",
        "\n",
        "for i in range(1, N + 1):\n",
        "    if i % 5 == 0:\n",
        "        kelipatan.append(i)\n",
        "        total += i\n",
        "print(\"\\nOutput:\", total)\n",
        "\n",
        "# Menampilkan keterangan\n",
        "if total == 0:\n",
        "    print(\"Tidak ada bilangan kelipatan 5 antara 1 s.d.\", N)\n",
        "else:\n",
        "    print(\"Bilangan kelipatan 5 antara 1 s.d.\", N, \"adalah\", end=\" \")\n",
        "    print(*kelipatan, sep=\", \")\n",
        "    print(\"Hasil penjumlahan:\", \" + \".join(map(str, kelipatan)),\"=\",total)"
      ],
      "metadata": {
        "colab": {
          "base_uri": "https://localhost:8080/"
        },
        "id": "x0_F3Nlmghta",
        "outputId": "e9ee31ff-37b2-4bd8-b641-d22f231e5752"
      },
      "execution_count": 17,
      "outputs": [
        {
          "output_type": "stream",
          "name": "stdout",
          "text": [
            "Masukkan nilai N: 26\n",
            "\n",
            "Output: 75\n",
            "Bilangan kelipatan 5 antara 1 s.d. 26 adalah 5, 10, 15, 20, 25\n",
            "Hasil penjumlahan: 5 + 10 + 15 + 20 + 25 = 75\n"
          ]
        }
      ]
    },
    {
      "cell_type": "code",
      "source": [
        "N = int(input(\"Masukkan nilai N: \"))\n",
        "total = 0\n",
        "kelipatan = []\n",
        "\n",
        "for i in range(1, N + 1):\n",
        "    if i % 5 == 0:\n",
        "        kelipatan.append(i)\n",
        "        total += i\n",
        "print(\"\\nOutput:\", total)\n",
        "\n",
        "# Menampilkan keterangan\n",
        "if total == 0:\n",
        "    print(\"Tidak ada bilangan kelipatan 5 antara 1 s.d.\", N)\n",
        "else:\n",
        "    print(\"Bilangan kelipatan 5 antara 1 s.d.\", N, \"adalah\", end=\" \")\n",
        "    print(*kelipatan, sep=\", \")\n",
        "    print(\"Hasil penjumlahan:\", \" + \".join(map(str, kelipatan)),\"=\",total)"
      ],
      "metadata": {
        "colab": {
          "base_uri": "https://localhost:8080/"
        },
        "id": "-qjP_eDxgqYd",
        "outputId": "788b6eea-f1ff-4033-a4da-346b851345d5"
      },
      "execution_count": 18,
      "outputs": [
        {
          "output_type": "stream",
          "name": "stdout",
          "text": [
            "Masukkan nilai N: 4\n",
            "\n",
            "Output: 0\n",
            "Tidak ada bilangan kelipatan 5 antara 1 s.d. 4\n"
          ]
        }
      ]
    },
    {
      "cell_type": "markdown",
      "source": [
        "**TUGAS NOMOR 3**"
      ],
      "metadata": {
        "id": "tobqi-MbsZFH"
      }
    },
    {
      "cell_type": "code",
      "source": [
        "#MENGGUNAKAN FOR LOOP\n",
        "N = int(input(\"Masukkan jumlah anak ayam (N): \"))\n",
        "\n",
        "for i in range(N, 0, -1):\n",
        "    print(f\"Anak ayam turunlah {i}\")\n",
        "    if i == 1:\n",
        "        print(\"Mati satu tinggal induknya\")\n",
        "    else:\n",
        "        print(f\"Mati satu tinggallah{i-1}\")"
      ],
      "metadata": {
        "colab": {
          "base_uri": "https://localhost:8080/"
        },
        "id": "NFlrrI8Egvy8",
        "outputId": "85edc48e-29ec-4e71-868e-9d5fc376d814"
      },
      "execution_count": 21,
      "outputs": [
        {
          "output_type": "stream",
          "name": "stdout",
          "text": [
            "Masukkan jumlah anak ayam (N): 5\n",
            "Anak ayam turunlah 5\n",
            "Mati satu tinggallah 4\n",
            "Anak ayam turunlah 4\n",
            "Mati satu tinggallah 3\n",
            "Anak ayam turunlah 3\n",
            "Mati satu tinggallah 2\n",
            "Anak ayam turunlah 2\n",
            "Mati satu tinggallah 1\n",
            "Anak ayam turunlah 1\n",
            "Mati satu tinggal induknya\n"
          ]
        }
      ]
    },
    {
      "cell_type": "code",
      "source": [
        "#MENGGUNAKAN WHILE LOOP\n",
        "N = int(input(\"Masukkan jumlah anak ayam (N): \"))\n",
        "jumlah = N\n",
        "\n",
        "while jumlah > 0:\n",
        "    print(f\"Anak ayam turunlah {jumlah}\")\n",
        "    if jumlah == 1:\n",
        "        print(\"Mati satu tinggal induknya\")\n",
        "    else:\n",
        "        print(f\"Mati satu tinggallah {jumlah-1}\")\n",
        "    jumlah -= 1"
      ],
      "metadata": {
        "colab": {
          "base_uri": "https://localhost:8080/"
        },
        "id": "QVOzTDAZkRlE",
        "outputId": "4de566bc-25d3-4d6f-9c9f-00f78fb7c996"
      },
      "execution_count": 22,
      "outputs": [
        {
          "output_type": "stream",
          "name": "stdout",
          "text": [
            "Masukkan jumlah anak ayam (N): 5\n",
            "Anak ayam turunlah 5\n",
            "Mati satu tinggallah 4\n",
            "Anak ayam turunlah 4\n",
            "Mati satu tinggallah 3\n",
            "Anak ayam turunlah 3\n",
            "Mati satu tinggallah 2\n",
            "Anak ayam turunlah 2\n",
            "Mati satu tinggallah 1\n",
            "Anak ayam turunlah 1\n",
            "Mati satu tinggal induknya\n"
          ]
        }
      ]
    },
    {
      "cell_type": "code",
      "source": [
        "#MENGGUNAKAN FOR LOOP IN LIST\n",
        "N = int(input(\"Masukkan jumlah anak ayam (N): \"))\n",
        "angka = list(range(N, 0, -1))\n",
        "\n",
        "for i in angka:\n",
        "    print(f\"Anak ayam turunlah {i}\")\n",
        "    if i == 1:\n",
        "        print(\"Mati satu tinggal induknya\")\n",
        "    else:\n",
        "        print(f\"Mati satu tinggallah{i-1}\")"
      ],
      "metadata": {
        "colab": {
          "base_uri": "https://localhost:8080/"
        },
        "id": "ZgnnlAbFkdYe",
        "outputId": "6d653a6f-4096-4b8a-b71f-68d5f3ec7299"
      },
      "execution_count": 24,
      "outputs": [
        {
          "output_type": "stream",
          "name": "stdout",
          "text": [
            "Masukkan jumlah anak ayam (N): 5\n",
            "Anak ayam turunlah 5\n",
            "Mati satu tinggallah4\n",
            "Anak ayam turunlah 4\n",
            "Mati satu tinggallah3\n",
            "Anak ayam turunlah 3\n",
            "Mati satu tinggallah2\n",
            "Anak ayam turunlah 2\n",
            "Mati satu tinggallah1\n",
            "Anak ayam turunlah 1\n",
            "Mati satu tinggal induknya\n"
          ]
        }
      ]
    }
  ]
}