{
  "nbformat": 4,
  "nbformat_minor": 0,
  "metadata": {
    "colab": {
      "provenance": [],
      "include_colab_link": true
    },
    "kernelspec": {
      "name": "python3",
      "display_name": "Python 3"
    },
    "language_info": {
      "name": "python"
    }
  },
  "cells": [
    {
      "cell_type": "markdown",
      "metadata": {
        "id": "view-in-github",
        "colab_type": "text"
      },
      "source": [
        "<a href=\"https://colab.research.google.com/github/FitriFatimah6/pemograman-lanjutan-sem3/blob/main/Pendahuluan_Fitri_Fatimah.ipynb\" target=\"_parent\"><img src=\"https://colab.research.google.com/assets/colab-badge.svg\" alt=\"Open In Colab\"/></a>"
      ]
    },
    {
      "cell_type": "markdown",
      "source": [
        "#**🖥️👩🏻‍💻PRAKTIKUM PEMROGRAMAN LANJUT🔥**\n",
        "##**Pertemuan (1) PENDAHULUAN PYTHON - Senin, 14 Oktober 2024**\n",
        "\n",
        "👤 Nama: Fitri Fatimah / NRP: 2C2230003 / Kelas: III/A Sains Data\n",
        "\n",
        "💬Deskripsi Pembahasan Materi Pengulangan:\n",
        "\n",
        "1.1.  Beberapa karakteristik dari bahasa pemrograman Python\n",
        "- Python bersifat case-sensitive, artinya perbedaan huruf besar dan huruf kecil menyebabkan perbedaan makna sintaks.\n",
        "\n",
        "- Python sangat memerhatikan indentasi dan pergantian baris. Kesalahan indentasi dapat menyebabkan gagal compile hingga kesalahan program.\n",
        "\n",
        "- Variabel di python bersifat implisit dan dinamis. Artinya, sebuah variabel tidak perlu dideskripsikan tipe datany\n",
        "\n",
        "1.2. Macam - macam tipe data :\n",
        "- Bool(Boolean) : True atau False\n",
        "\n",
        "- Int(Bilangan bulat) : Seluruh bilangan bulat\n",
        "\n",
        "- Float(Bilangan real : Seluruh bilangan real\n",
        "\n",
        "- String(Teks) : Kumpulan karakter\n",
        "\n",
        "\n"
      ],
      "metadata": {
        "id": "_bN6_LxQCJZT"
      }
    },
    {
      "cell_type": "markdown",
      "source": [
        "#🤸🏻‍♀️ EKSPLORASI PRIBADI DI KELAS ✨"
      ],
      "metadata": {
        "id": "N0U2Qjks8P9F"
      }
    },
    {
      "cell_type": "code",
      "execution_count": 1,
      "metadata": {
        "id": "itmMcxv88OIm",
        "colab": {
          "base_uri": "https://localhost:8080/"
        },
        "outputId": "e79a1a27-ef59-45db-f3b6-2030d184f167"
      },
      "outputs": [
        {
          "output_type": "stream",
          "name": "stdout",
          "text": [
            "25\n",
            "25.25\n"
          ]
        }
      ],
      "source": [
        "X = 101\n",
        "Y= 4\n",
        "\n",
        "X//Y\n",
        "X/Y\n",
        "\n",
        "print(X//Y)\n",
        "print(X/Y)"
      ]
    },
    {
      "cell_type": "code",
      "source": [
        "# Meminta input dari pengguna\n",
        "N = int(input(\"Masukkan nilai N: \"))\n",
        "\n",
        "# Memeriksa apakah N adalah positif, negatif, atau nol\n",
        "if N > 0:\n",
        "    if N % 2 == 0:\n",
        "        print(f\"{N} adalah bilangan positif genap\")\n",
        "    else:\n",
        "        print(f\"{N} adalah bilangan positif ganjil\")\n",
        "elif N < 0:\n",
        "    print(f\"{N} adalah bilangan negatif\")\n",
        "else:\n",
        "    print(\"N adalah nol\")"
      ],
      "metadata": {
        "colab": {
          "base_uri": "https://localhost:8080/"
        },
        "id": "KVYXwnq5OOa_",
        "outputId": "ca3dcf0b-ba38-4370-ed9e-b9a73b046fe6"
      },
      "execution_count": 2,
      "outputs": [
        {
          "output_type": "stream",
          "name": "stdout",
          "text": [
            "Masukkan nilai N: 9\n",
            "9 adalah bilangan positif ganjil\n"
          ]
        }
      ]
    },
    {
      "cell_type": "markdown",
      "source": [
        "- Interpretasi coding:\n",
        "\n",
        "- Interpretasi Hasil:\n",
        "9 adalah bilangan positif ganjil"
      ],
      "metadata": {
        "id": "f1J9LJyv9-YC"
      }
    },
    {
      "cell_type": "markdown",
      "source": [
        "#🧠 LATIHAN SOAL DI KELAS ⏱️"
      ],
      "metadata": {
        "id": "KEGjH0_P9D1-"
      }
    },
    {
      "cell_type": "markdown",
      "source": [
        "Problem (1)"
      ],
      "metadata": {
        "id": "nt7-fY7s9PgC"
      }
    },
    {
      "cell_type": "code",
      "source": [],
      "metadata": {
        "id": "h7si6sBj9Mr4"
      },
      "execution_count": null,
      "outputs": []
    },
    {
      "cell_type": "markdown",
      "source": [
        "- Interpretasi coding:\n",
        "\n",
        "- Interpretasi Hasil:"
      ],
      "metadata": {
        "id": "Wou8YKfJ9lvY"
      }
    },
    {
      "cell_type": "markdown",
      "source": [
        "Problem (2)"
      ],
      "metadata": {
        "id": "Eucg6DUK9fgA"
      }
    },
    {
      "cell_type": "code",
      "source": [],
      "metadata": {
        "id": "9uWMEZpP9hlB"
      },
      "execution_count": null,
      "outputs": []
    },
    {
      "cell_type": "markdown",
      "source": [
        "- Interpretasi coding:\n",
        "\n",
        "- Interpretasi Hasil:"
      ],
      "metadata": {
        "id": "fM9Fo97_93Ni"
      }
    },
    {
      "cell_type": "markdown",
      "source": [
        "#🏆 POST TEST 🎯"
      ],
      "metadata": {
        "id": "J_75vTSXKFGE"
      }
    },
    {
      "cell_type": "markdown",
      "source": [
        "Problem (1)"
      ],
      "metadata": {
        "id": "twhHfrqiKSfV"
      }
    },
    {
      "cell_type": "code",
      "source": [
        "#H01_2C2230004_01.py\n",
        "#program asumsi keuntungan tiap barang selalu ada\n",
        "\n",
        "# Input harga dasar dan harga jual barang\n",
        "harga_dasar_A = int(input(\"Masukkan harga dasar barang A: \"))\n",
        "harga_jual_A = int(input(\"Masukkan harga jual barang A: \"))\n",
        "harga_dasar_B = int(input(\"Masukkan harga dasar barang B: \"))\n",
        "harga_jual_B = int(input(\"Masukkan harga jual barang B: \"))\n",
        "harga_dasar_C = int(input(\"Masukkan harga dasar barang C: \"))\n",
        "harga_jual_C = int(input(\"Masukkan harga jual barang C: \"))\n",
        "\n",
        "# Hitung keuntungan untuk masing-masing barang\n",
        "keuntungan_A = harga_jual_A - harga_dasar_A\n",
        "keuntungan_B = harga_jual_B - harga_dasar_B\n",
        "keuntungan_C = harga_jual_C - harga_dasar_C\n",
        "\n",
        "# Tentukan barang dengan keuntungan terbesar\n",
        "if keuntungan_A > keuntungan_B and keuntungan_A > keuntungan_C:\n",
        "    print(\"Barang yang harus ditawarkan adalah barang A\")\n",
        "elif keuntungan_B > keuntungan_A and keuntungan_B > keuntungan_C:\n",
        "    print(\"Barang yang harus ditawarkan adalah barang B\")\n",
        "else:\n",
        "    print(\"Barang yang harus ditawarkan adalah barang C\")\n"
      ],
      "metadata": {
        "id": "hOI8Gls9KV05",
        "colab": {
          "base_uri": "https://localhost:8080/"
        },
        "outputId": "2198fdc7-bcb8-499d-e2a1-2bc1804bb543"
      },
      "execution_count": 6,
      "outputs": [
        {
          "output_type": "stream",
          "name": "stdout",
          "text": [
            "Masukkan harga dasar barang A: 10\n",
            "Masukkan harga jual barang A: 15\n",
            "Masukkan harga dasar barang B: 10\n",
            "Masukkan harga jual barang B: 12\n",
            "Masukkan harga dasar barang C: 10\n",
            "Masukkan harga jual barang C: 11\n",
            "Barang yang harus ditawarkan adalah barang A\n"
          ]
        }
      ]
    },
    {
      "cell_type": "markdown",
      "source": [
        "- Interpretasi coding:\n",
        "- Interpretasi hasil:\n",
        "case 1\n",
        "- Masukkan harga dasar barang A: 10\n",
        "- Masukkan harga jual barang A: 15\n",
        "- Masukkan harga dasar barang B: 10\n",
        "- Masukkan harga jual barang B: 12\n",
        "- Masukkan harga dasar barang C: 10\n",
        "- Masukkan harga jual barang C: 11\n",
        "- Barang yang harus ditawarkan adalah barang A\n",
        "\n",
        "case 2\n",
        "- Masukkan harga dasar barang A: 8\n",
        "- Masukkan harga jual barang A: 11\n",
        "- Masukkan harga dasar barang B: 7\n",
        "- Masukkan harga jual barang B: 12\n",
        "- Masukkan harga dasar barang C: 6\n",
        "- Masukkan harga jual barang C: 12\n",
        "- Barang yang harus ditawarkan adalah barang C\n",
        "\n",
        "*   Item daftar\n",
        "*   Item daftar\n",
        "\n"
      ],
      "metadata": {
        "id": "t9x---59KWVI"
      }
    },
    {
      "cell_type": "markdown",
      "source": [
        "problem (2)"
      ],
      "metadata": {
        "id": "HKr-8xQJ2-jm"
      }
    },
    {
      "cell_type": "code",
      "source": [
        "def kelas_mahasiswa(nrp_akhir):\n",
        "  nrp_akhir = int(nrp_akhir)\n",
        "\n",
        "  # menentukan kelas berdasarkan rentang NRP\n",
        "  if 1 <= nrp_akhir <= 100:\n",
        "    return \"K1\" if nrp_akhir % 2 != 0 else \"K2\"\n",
        "  elif 101 <= nrp_akhir <= 200:\n",
        "    return \"K3\" if nrp_akhir % 2 != 0 else \"K4\"\n",
        "  elif 201 <= nrp_akhir <= 300:\n",
        "    return \"K5\" if nrp_akhir % 2 != 0 else \"K6\"\n",
        "  elif nrp_akhir > 300:\n",
        "    return \"K7\" if nrp_akhir % 2 != 0 else \"K8\"\n",
        "  else:\n",
        "    return \"NRP Tidak Valid\"\n",
        "\n",
        "# input 3 digit terakhir NRP mahasiswa\n",
        "nrp = input(\"Masukkan 3 digit terakhir NRP: \")\n",
        "kelas = kelas_mahasiswa(nrp)\n",
        "\n",
        "# menampilkan hasil\n",
        "print(f\"Mahasiswa dengan NRP {nrp} berada di kelas{kelas}.\")"
      ],
      "metadata": {
        "colab": {
          "base_uri": "https://localhost:8080/"
        },
        "id": "MYxZdeDg27xg",
        "outputId": "d9c7ef85-68d4-4e41-83ac-b0efe1cf7f8f"
      },
      "execution_count": 9,
      "outputs": [
        {
          "output_type": "stream",
          "name": "stdout",
          "text": [
            "Masukkan 3 digit terakhir NRP: 121\n",
            "Mahasiswa dengan NRP 121 berada di kelasK3.\n"
          ]
        }
      ]
    },
    {
      "cell_type": "markdown",
      "source": [
        "interpretasi hasil:\n",
        "case 1\n",
        "- Masukkan 3 digit terakhir NRP: 121\n",
        "- Mahasiswa dengan NRP 121 berada di kelas K3.\n",
        "\n",
        "\n",
        "case 2\n",
        "- Masukkan 3 digit terakhir NRP: 544\n",
        "- Mahasiswa dengan NRP 544 berada di kelas K8."
      ],
      "metadata": {
        "id": "ARbJotC137tN"
      }
    },
    {
      "cell_type": "markdown",
      "source": [
        "📌Catatan:\n",
        "  - Notebook python ini dibuat untuk memudahkan temen-temen belajar ngoding dan pengumpulan tugas.\n",
        "  - Silakan download notebook ini lalu upload di Google Collab milik kalian agar format `pertemuan`, `topik pertemuan`,\n",
        "`tanggal`, `deskripsi pembahasan materi`, `baris coding` dan `interpretasi` bisa disesuaikan dengan kebutuhan teman-teman.\n",
        "\n",
        "  - Interpretasi coding dan hasil dimaksudkan agar teman-teman semakin memahami apa yang dipelajari.\n",
        "\n",
        "  - Deskripsi pembahasan materi dimaksudkan agar teman-teman semakin memahami apa fokus yang dipelajari.\n",
        "\n",
        "  - Tulisan di setiap sebelum baris code disebut `markdown`. Ada beberapa jenis simbol yang memudahkan kepenulisan `markdown` kita, yaitu seperti : untuk mengatur ukuran tulisan biasanya tulisan pada header menggunakan ini`#`, `##`, `###`, untuk membuat pointer menggunakan ini `-`, untuk membuat tulisan ter-highlight menggunakan ini *` `* , untuk short-cut membuat tulisan jadi **bold** gunakan ini `** **`, dan untuk *tulisan miring* gunakan ini `* *` .\n",
        "\n",
        "  - Semangat belajar! 🌟✨\n",
        "\n",
        "©️ LABORATORIUM SAINS DATA 2024"
      ],
      "metadata": {
        "id": "D-tRQnbQK69l"
      }
    }
  ]
}