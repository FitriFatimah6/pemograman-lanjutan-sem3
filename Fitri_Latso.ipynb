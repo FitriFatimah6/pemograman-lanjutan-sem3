{
  "nbformat": 4,
  "nbformat_minor": 0,
  "metadata": {
    "colab": {
      "provenance": [],
      "authorship_tag": "ABX9TyMSvtRoaXteIQEOJYVxBLWW",
      "include_colab_link": true
    },
    "kernelspec": {
      "name": "python3",
      "display_name": "Python 3"
    },
    "language_info": {
      "name": "python"
    }
  },
  "cells": [
    {
      "cell_type": "markdown",
      "metadata": {
        "id": "view-in-github",
        "colab_type": "text"
      },
      "source": [
        "<a href=\"https://colab.research.google.com/github/FitriFatimah6/pemograman-lanjutan-sem3/blob/main/Fitri_Latso.ipynb\" target=\"_parent\"><img src=\"https://colab.research.google.com/assets/colab-badge.svg\" alt=\"Open In Colab\"/></a>"
      ]
    },
    {
      "cell_type": "markdown",
      "source": [
        "Nama : Fitri Fatimah\n",
        "Nrp  : 2C2230004\n",
        "QUIZZ Pemograman lanjutan lab\n",
        "\n"
      ],
      "metadata": {
        "id": "IvV6wOclOzBl"
      }
    },
    {
      "cell_type": "code",
      "source": [
        "#Soal 1\n",
        "\n",
        "berat=int(input(\"Masukan berat badan atlet (kg):\"))\n",
        "\n",
        "if berat < 45 :\n",
        "  print(\"Tidak memenuhi kualifikasi\")\n",
        "if berat <= 50:\n",
        "  print(\"Kelas A\")\n",
        "if berat <= 55:\n",
        "  print(\"Kelas B\")\n",
        "if berat <= 60:\n",
        "  print(\"kelasC\")\n",
        "if berat <= 65:\n",
        "  print(\"kelas D\")\n",
        "if berat <= 70:\n",
        "  print(\"Kelas F\")\n",
        "else:\n",
        "  print(\"kelas F\")"
      ],
      "metadata": {
        "colab": {
          "base_uri": "https://localhost:8080/"
        },
        "id": "n9qeLkLzPBB9",
        "outputId": "cc55b04d-4679-40d1-e0ea-0cbe01a977ce"
      },
      "execution_count": 3,
      "outputs": [
        {
          "output_type": "stream",
          "name": "stdout",
          "text": [
            "Masukan berat badan atlet (kg):56\n",
            "kelasC\n",
            "kelas D\n",
            "Kelas F\n"
          ]
        }
      ]
    },
    {
      "cell_type": "code",
      "source": [
        "#Soal 2\n",
        "\n",
        "angka = int(input(\"Masukkan bilangan 3 digit: \"))\n",
        "\n",
        "ratusan = angka // 100\n",
        "puluhan = (angka % 100) // 10\n",
        "satuan = angka % 10\n",
        "\n",
        "hasil = (ratusan ** 3) + (puluhan ** 3) + (satuan ** 3)\n",
        "\n",
        "if angka == hasil:\n",
        "    print(f\"{angka} adalah bilangan Armstrong\")\n",
        "    print(f\"Karena {ratusan}^3 + {puluhan}^3 + {satuan}^3 = {hasil}\")\n",
        "else:\n",
        "    print(f\"{angka} bukan bilangan Armstrong\")\n",
        "    print(f\"Karena {ratusan}^3 + {puluhan}^3 + {satuan}^3 ={hasil}\")"
      ],
      "metadata": {
        "colab": {
          "base_uri": "https://localhost:8080/"
        },
        "id": "BDwZ2AAESjtf",
        "outputId": "7147869f-ebfe-44a8-d188-7f3dd0a0e915"
      },
      "execution_count": 13,
      "outputs": [
        {
          "output_type": "stream",
          "name": "stdout",
          "text": [
            "Masukkan bilangan 3 digit: 611\n",
            "611 bukan bilangan Armstrong\n",
            "Karena 6^3 + 1^3 + 1^3 =218\n"
          ]
        }
      ]
    },
    {
      "cell_type": "code",
      "source": [
        "#Soal 3\n",
        "\n",
        "r=float(input(\"Masukan jaari - jari bola: \"))\n",
        "v=4/3 * 3.1416 * r**3\n",
        "print(\"Volume bola adalah:\",v)"
      ],
      "metadata": {
        "colab": {
          "base_uri": "https://localhost:8080/"
        },
        "id": "lFguWaBRWZ9l",
        "outputId": "eb8b7934-c3bc-4027-ddb6-2efbd8ea0071"
      },
      "execution_count": 16,
      "outputs": [
        {
          "output_type": "stream",
          "name": "stdout",
          "text": [
            "Masukan jaari - jari bola: 22\n",
            "Volume bola adalah: 44602.342399999994\n"
          ]
        }
      ]
    },
    {
      "cell_type": "code",
      "source": [
        "#Soal 4\n",
        "\n",
        "tinggi_valid=[]\n",
        "\n",
        "while True:\n",
        "  tinggi=int(input(\"Masukan tinggi siswa (cm) atau -999 untuk selesai:\"))\n",
        "\n",
        "  if tinggi ==-999:\n",
        "     break\n",
        "  if tinggi >= 100 and tinggi <=200:\n",
        "    tinggi_valid.append(tinggi)\n",
        "\n",
        "if len(tinggi_valid) >0:\n",
        "  rata_rata=sum(tinggi_valid)/len(tinggi_valid)\n",
        "  print(f\"rata - rata tinggi siswa:{rata_rata}\")\n",
        "else:\n",
        "  print(\"Tidak ada data\")"
      ],
      "metadata": {
        "colab": {
          "base_uri": "https://localhost:8080/"
        },
        "id": "6avG4kozYNeT",
        "outputId": "3778dc78-1e90-4de8-d7d2-a9844a867d55"
      },
      "execution_count": 21,
      "outputs": [
        {
          "output_type": "stream",
          "name": "stdout",
          "text": [
            "Masukan tinggi siswa (cm) atau -999 untuk selesai:120\n",
            "Masukan tinggi siswa (cm) atau -999 untuk selesai:145\n",
            "Masukan tinggi siswa (cm) atau -999 untuk selesai:150\n",
            "Masukan tinggi siswa (cm) atau -999 untuk selesai:-999\n",
            "rata - rata tinggi siswa:138.33333333333334\n"
          ]
        }
      ]
    },
    {
      "cell_type": "code",
      "source": [
        "#Soal 5\n",
        "\n",
        "n=int(input(\"Masukan Jumlah Mahasiswa: \"))\n",
        "\n",
        "for i in range(n):\n",
        "  nama = input(\"Nama:\")\n",
        "  praktikum = float(input(\"Nilai praktikum:\"))\n",
        "  uts = float(input(\"Nilai Uts:\"))\n",
        "  uas = float(input(\"Nilai Uas:\"))\n",
        "\n",
        "nilai_akhir=0.2*praktikum + 0.4*uts+ 0.4*uas\n",
        "if nilai_akhir >= 85:\n",
        "  indeks=\"A\"\n",
        "elif nilai_akhir >= 75:\n",
        "  indeks=\"AB\"\n",
        "elif nilai_akhir >= 70:\n",
        "  indeks=\"B\"\n",
        "elif nilai_akhir >= 60:\n",
        "  indeks=\"BC\"\n",
        "elif nilai_akhir >= 50:\n",
        "  indeks=\"C\"\n",
        "elif nilai_akhir >= 40:\n",
        "  indeks=\"D\"\n",
        "else:\n",
        "  indeks=\"E\"\n",
        "print(f\"{nama}, {praktikum}, {uts}, {uas}, {nilai_akhir}, {indeks}\")\n",
        "print(\"_\"*50)"
      ],
      "metadata": {
        "colab": {
          "base_uri": "https://localhost:8080/"
        },
        "id": "6bQvW5fAab9U",
        "outputId": "02f5861c-7a99-41be-9bb2-a323198362b6"
      },
      "execution_count": 33,
      "outputs": [
        {
          "output_type": "stream",
          "name": "stdout",
          "text": [
            "Masukan Jumlah Mahasiswa: 1\n",
            "Nama:Udin\n",
            "Nilai praktikum:50\n",
            "Nilai Uts:50\n",
            "Nilai Uas:50\n",
            "Udin, 50.0, 50.0, 50.0, 50.0, C\n",
            "__________________________________________________\n"
          ]
        }
      ]
    },
    {
      "cell_type": "code",
      "source": [
        "#Soal 5\n",
        "\n",
        "n=int(input(\"Masukan Jumlah Mahasiswa: \"))\n",
        "\n",
        "for i in range(n):\n",
        "  nama = input(\"Nama:\")\n",
        "  praktikum = float(input(\"Nilai praktikum:\"))\n",
        "  uts = float(input(\"Nilai Uts:\"))\n",
        "  uas = float(input(\"Nilai Uas:\"))\n",
        "\n",
        "nilai_akhir=0.2*praktikum + 0.4*uts+ 0.4*uas\n",
        "\n",
        "if nilai_akhir >= 85:\n",
        "  indeks=\"A\"\n",
        "elif nilai_akhir >= 75:\n",
        "  indeks=\"AB\"\n",
        "elif nilai_akhir >= 70:\n",
        "  indeks=\"B\"\n",
        "elif nilai_akhir >= 60:\n",
        "  indeks=\"BC\"\n",
        "elif nilai_akhir >= 50:\n",
        "  indeks=\"C\"\n",
        "elif nilai_akhir >= 40:\n",
        "  indeks=\"D\"\n",
        "else:\n",
        "  indeks=\"E\"\n",
        "print(f\"{nama}, {praktikum}, {uts}, {uas}, {nilai_akhir}, {indeks}\")\n",
        "print(\"_\"*50)"
      ],
      "metadata": {
        "colab": {
          "base_uri": "https://localhost:8080/"
        },
        "id": "myjmvDJlhcGe",
        "outputId": "c7052967-92b1-471b-be2e-4e23709502c4"
      },
      "execution_count": 32,
      "outputs": [
        {
          "output_type": "stream",
          "name": "stdout",
          "text": [
            "Masukan Jumlah Mahasiswa: 1\n",
            "Nama:Asep\n",
            "Nilai praktikum:90\n",
            "Nilai Uts:70\n",
            "Nilai Uas:80\n",
            "Asep, 90.0, 70.0, 80.0, 78.0, AB\n",
            "__________________________________________________\n"
          ]
        }
      ]
    }
  ]
}